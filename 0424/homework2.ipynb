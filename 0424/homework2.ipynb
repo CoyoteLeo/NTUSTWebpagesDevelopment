{
 "cells": [
  {
   "cell_type": "code",
   "execution_count": 3,
   "metadata": {},
   "outputs": [
    {
     "name": "stdout",
     "output_type": "stream",
     "text": [
      "enter your choice123\n",
      "繼續猜吧你\n",
      "enter your choice123\n",
      "繼續猜吧你\n",
      "enter your choice8\n",
      "被猜對惹!遊戲結束!\n"
     ]
    }
   ],
   "source": [
    "while(True):\n",
    "    enter = input(\"enter your choice\")\n",
    "    if enter == 'q':\n",
    "        print(\"退出\")\n",
    "        break\n",
    "    elif int(enter) == 8:\n",
    "        print(\"被猜對惹!遊戲結束!\")\n",
    "        break\n",
    "    else:\n",
    "        print(\"繼續猜吧你\")"
   ]
  }
 ],
 "metadata": {
  "kernelspec": {
   "display_name": "Python 3",
   "language": "python",
   "name": "python3"
  },
  "language_info": {
   "codemirror_mode": {
    "name": "ipython",
    "version": 3
   },
   "file_extension": ".py",
   "mimetype": "text/x-python",
   "name": "python",
   "nbconvert_exporter": "python",
   "pygments_lexer": "ipython3",
   "version": "3.6.8"
  }
 },
 "nbformat": 4,
 "nbformat_minor": 2
}
