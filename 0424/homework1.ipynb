{
 "cells": [
  {
   "cell_type": "code",
   "execution_count": null,
   "metadata": {},
   "outputs": [
    {
     "name": "stdout",
     "output_type": "stream",
     "text": [
      "enter your score80\n",
      "好棒棒\n",
      "enter your score69\n",
      "加油好嗎\n",
      "enter your score55\n",
      "放棄吧\n"
     ]
    }
   ],
   "source": [
    "while(True):\n",
    "    score = int(input(\"enter your score\"))\n",
    "    if score >= 80:\n",
    "        print(\"好棒棒\")\n",
    "    elif score >= 60:\n",
    "        print(\"加油好嗎\")\n",
    "    else:\n",
    "        print(\"放棄吧\")"
   ]
  }
 ],
 "metadata": {
  "kernelspec": {
   "display_name": "Python 3",
   "language": "python",
   "name": "python3"
  }
 },
 "nbformat": 4,
 "nbformat_minor": 2
}
